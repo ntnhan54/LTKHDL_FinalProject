{
 "cells": [
  {
   "cell_type": "markdown",
   "metadata": {},
   "source": [
    "## LTKHDL - Final Project\n",
    "### Nguyễn Thành Nhân - `1712631`\n",
    "---"
   ]
  },
  {
   "cell_type": "markdown",
   "metadata": {},
   "source": [
    "# MÔ TẢ DỮ LIỆU\n",
    "- Dữ liệu về `US Police Shootings` - file *shootings.csv*\n",
    "- Nguồn dữ liệu: https://www.kaggle.com/ahsen1330/us-police-shootings\n",
    "- Gần đây, có một sự việc xảy ra giữa cảnh sát và người dân ở Mỹ nói riêng, và một số vụ giết người nói chung, làm dấy lên làn sóng tranh cãi về vấn đề nhức nhối là xung đột, phân biệt chủng tộc - sắc tộc - \"Racism\"(https://vi.wikipedia.org/wiki/C%C3%A1i_ch%E1%BA%BFt_c%E1%BB%A7a_George_Floyd), do đó tác giả đã thu thập một số dữ liệu từ các nguồn trên Kaggle để đưa ra một số hiểu biết sâu sắc và phân tích câu chuyện xung quanh nạn phân biệt chủng tộc ở Mỹ.\n",
    "- Dataset owner:  Ahsen Nazir - https://www.kaggle.com/ahsen1330\n",
    "- Usage Information: Public\n",
    "\n",
    "- **Dữ liệu được sử dụng cho mục đích học tập, không nhằm mục đích thương mại - chính trị - tôn giáo**\n",
    "---"
   ]
  },
  {
   "cell_type": "code",
   "execution_count": 3,
   "metadata": {},
   "outputs": [],
   "source": [
    "import numpy as np\n",
    "import matplotlib.pyplot as plt\n",
    "import pandas as pd\n",
    "import seaborn as sns"
   ]
  },
  {
   "cell_type": "markdown",
   "metadata": {},
   "source": [
    "## Khám phá dữ liệu"
   ]
  },
  {
   "cell_type": "code",
   "execution_count": 4,
   "metadata": {},
   "outputs": [
    {
     "data": {
      "text/html": [
       "<div>\n",
       "<style scoped>\n",
       "    .dataframe tbody tr th:only-of-type {\n",
       "        vertical-align: middle;\n",
       "    }\n",
       "\n",
       "    .dataframe tbody tr th {\n",
       "        vertical-align: top;\n",
       "    }\n",
       "\n",
       "    .dataframe thead th {\n",
       "        text-align: right;\n",
       "    }\n",
       "</style>\n",
       "<table border=\"1\" class=\"dataframe\">\n",
       "  <thead>\n",
       "    <tr style=\"text-align: right;\">\n",
       "      <th></th>\n",
       "      <th>id</th>\n",
       "      <th>name</th>\n",
       "      <th>date</th>\n",
       "      <th>manner_of_death</th>\n",
       "      <th>armed</th>\n",
       "      <th>age</th>\n",
       "      <th>gender</th>\n",
       "      <th>race</th>\n",
       "      <th>city</th>\n",
       "      <th>state</th>\n",
       "      <th>signs_of_mental_illness</th>\n",
       "      <th>threat_level</th>\n",
       "      <th>flee</th>\n",
       "      <th>body_camera</th>\n",
       "      <th>arms_category</th>\n",
       "    </tr>\n",
       "  </thead>\n",
       "  <tbody>\n",
       "    <tr>\n",
       "      <th>0</th>\n",
       "      <td>3</td>\n",
       "      <td>Tim Elliot</td>\n",
       "      <td>2015-01-02</td>\n",
       "      <td>shot</td>\n",
       "      <td>gun</td>\n",
       "      <td>53.0</td>\n",
       "      <td>M</td>\n",
       "      <td>Asian</td>\n",
       "      <td>Shelton</td>\n",
       "      <td>WA</td>\n",
       "      <td>True</td>\n",
       "      <td>attack</td>\n",
       "      <td>Not fleeing</td>\n",
       "      <td>False</td>\n",
       "      <td>Guns</td>\n",
       "    </tr>\n",
       "    <tr>\n",
       "      <th>1</th>\n",
       "      <td>4</td>\n",
       "      <td>Lewis Lee Lembke</td>\n",
       "      <td>2015-01-02</td>\n",
       "      <td>shot</td>\n",
       "      <td>gun</td>\n",
       "      <td>47.0</td>\n",
       "      <td>M</td>\n",
       "      <td>White</td>\n",
       "      <td>Aloha</td>\n",
       "      <td>OR</td>\n",
       "      <td>False</td>\n",
       "      <td>attack</td>\n",
       "      <td>Not fleeing</td>\n",
       "      <td>False</td>\n",
       "      <td>Guns</td>\n",
       "    </tr>\n",
       "    <tr>\n",
       "      <th>2</th>\n",
       "      <td>5</td>\n",
       "      <td>John Paul Quintero</td>\n",
       "      <td>2015-01-03</td>\n",
       "      <td>shot and Tasered</td>\n",
       "      <td>unarmed</td>\n",
       "      <td>23.0</td>\n",
       "      <td>M</td>\n",
       "      <td>Hispanic</td>\n",
       "      <td>Wichita</td>\n",
       "      <td>KS</td>\n",
       "      <td>False</td>\n",
       "      <td>other</td>\n",
       "      <td>Not fleeing</td>\n",
       "      <td>False</td>\n",
       "      <td>Unarmed</td>\n",
       "    </tr>\n",
       "    <tr>\n",
       "      <th>3</th>\n",
       "      <td>8</td>\n",
       "      <td>Matthew Hoffman</td>\n",
       "      <td>2015-01-04</td>\n",
       "      <td>shot</td>\n",
       "      <td>toy weapon</td>\n",
       "      <td>32.0</td>\n",
       "      <td>M</td>\n",
       "      <td>White</td>\n",
       "      <td>San Francisco</td>\n",
       "      <td>CA</td>\n",
       "      <td>True</td>\n",
       "      <td>attack</td>\n",
       "      <td>Not fleeing</td>\n",
       "      <td>False</td>\n",
       "      <td>Other unusual objects</td>\n",
       "    </tr>\n",
       "    <tr>\n",
       "      <th>4</th>\n",
       "      <td>9</td>\n",
       "      <td>Michael Rodriguez</td>\n",
       "      <td>2015-01-04</td>\n",
       "      <td>shot</td>\n",
       "      <td>nail gun</td>\n",
       "      <td>39.0</td>\n",
       "      <td>M</td>\n",
       "      <td>Hispanic</td>\n",
       "      <td>Evans</td>\n",
       "      <td>CO</td>\n",
       "      <td>False</td>\n",
       "      <td>attack</td>\n",
       "      <td>Not fleeing</td>\n",
       "      <td>False</td>\n",
       "      <td>Piercing objects</td>\n",
       "    </tr>\n",
       "  </tbody>\n",
       "</table>\n",
       "</div>"
      ],
      "text/plain": [
       "   id                name        date   manner_of_death       armed   age  \\\n",
       "0   3          Tim Elliot  2015-01-02              shot         gun  53.0   \n",
       "1   4    Lewis Lee Lembke  2015-01-02              shot         gun  47.0   \n",
       "2   5  John Paul Quintero  2015-01-03  shot and Tasered     unarmed  23.0   \n",
       "3   8     Matthew Hoffman  2015-01-04              shot  toy weapon  32.0   \n",
       "4   9   Michael Rodriguez  2015-01-04              shot    nail gun  39.0   \n",
       "\n",
       "  gender      race           city state  signs_of_mental_illness threat_level  \\\n",
       "0      M     Asian        Shelton    WA                     True       attack   \n",
       "1      M     White          Aloha    OR                    False       attack   \n",
       "2      M  Hispanic        Wichita    KS                    False        other   \n",
       "3      M     White  San Francisco    CA                     True       attack   \n",
       "4      M  Hispanic          Evans    CO                    False       attack   \n",
       "\n",
       "          flee  body_camera          arms_category  \n",
       "0  Not fleeing        False                   Guns  \n",
       "1  Not fleeing        False                   Guns  \n",
       "2  Not fleeing        False                Unarmed  \n",
       "3  Not fleeing        False  Other unusual objects  \n",
       "4  Not fleeing        False       Piercing objects  "
      ]
     },
     "execution_count": 4,
     "metadata": {},
     "output_type": "execute_result"
    }
   ],
   "source": [
    "df = pd.read_csv('shootings.csv')\n",
    "df.head()"
   ]
  },
  {
   "cell_type": "code",
   "execution_count": 5,
   "metadata": {},
   "outputs": [
    {
     "name": "stdout",
     "output_type": "stream",
     "text": [
      "<class 'pandas.core.frame.DataFrame'>\n",
      "RangeIndex: 4895 entries, 0 to 4894\n",
      "Data columns (total 15 columns):\n",
      " #   Column                   Non-Null Count  Dtype  \n",
      "---  ------                   --------------  -----  \n",
      " 0   id                       4895 non-null   int64  \n",
      " 1   name                     4895 non-null   object \n",
      " 2   date                     4895 non-null   object \n",
      " 3   manner_of_death          4895 non-null   object \n",
      " 4   armed                    4895 non-null   object \n",
      " 5   age                      4895 non-null   float64\n",
      " 6   gender                   4895 non-null   object \n",
      " 7   race                     4895 non-null   object \n",
      " 8   city                     4895 non-null   object \n",
      " 9   state                    4895 non-null   object \n",
      " 10  signs_of_mental_illness  4895 non-null   bool   \n",
      " 11  threat_level             4895 non-null   object \n",
      " 12  flee                     4895 non-null   object \n",
      " 13  body_camera              4895 non-null   bool   \n",
      " 14  arms_category            4895 non-null   object \n",
      "dtypes: bool(2), float64(1), int64(1), object(11)\n",
      "memory usage: 506.8+ KB\n"
     ]
    }
   ],
   "source": [
    "df.info()"
   ]
  },
  {
   "cell_type": "markdown",
   "metadata": {},
   "source": [
    "#### Dữ liệu có bao nhiêu dòng và bao nhiêu cột?"
   ]
  },
  {
   "cell_type": "code",
   "execution_count": 6,
   "metadata": {},
   "outputs": [
    {
     "name": "stdout",
     "output_type": "stream",
     "text": [
      "num_rows = 4895\n",
      "num_cols = 15\n"
     ]
    }
   ],
   "source": [
    "print(f'num_rows = {df.shape[0]}')\n",
    "print(f'num_cols = {df.shape[1]}')"
   ]
  },
  {
   "cell_type": "markdown",
   "metadata": {},
   "source": [
    "#### Mỗi dòng, cột có ý nghĩa như thế nào?\n",
    "\n",
    "##### Theo mô tả từ Kaggle:\n",
    "- `ID`: Identity of  event\n",
    "- `name`: name of shot person\n",
    "- `date`: the date the shooting occurred\n",
    "- `manner_of_death`: How they were killed? (e.g. Shot, Tasered, etc)\n",
    "- `armed`: Weapons\n",
    "- `age`: age of shot person\n",
    "- `gender`: gender of shot person (F or M)\n",
    "- `race`: race of shot person\n",
    "- `city`: location (City) of event\n",
    "- `state`: location (State) of event\n",
    "- `signs_of_mental_illness`:  Did they show any mental illness?\n",
    "- `threat_level`: level of Threat\n",
    "- `flee`: Did the suspect flee?\n",
    "- `body_camera`: Was the policeman wearing a camera/was the incident recorded?\n",
    "- `arms_category`: A category column holds type of weapon used by the suspect\n",
    "\n",
    "Nhìn vào dữ liệu ở `shootings.csv`, ta có thể thấy là mỗi dòng ứng với thông tin của một vụ giết người (bắn)."
   ]
  },
  {
   "cell_type": "markdown",
   "metadata": {},
   "source": [
    "#### Dtype của các cột"
   ]
  },
  {
   "cell_type": "code",
   "execution_count": 7,
   "metadata": {},
   "outputs": [
    {
     "data": {
      "text/plain": [
       "id                           int64\n",
       "name                        object\n",
       "date                        object\n",
       "manner_of_death             object\n",
       "armed                       object\n",
       "age                        float64\n",
       "gender                      object\n",
       "race                        object\n",
       "city                        object\n",
       "state                       object\n",
       "signs_of_mental_illness       bool\n",
       "threat_level                object\n",
       "flee                        object\n",
       "body_camera                   bool\n",
       "arms_category               object\n",
       "dtype: object"
      ]
     },
     "execution_count": 7,
     "metadata": {},
     "output_type": "execute_result"
    }
   ],
   "source": [
    "col_dtypes = df.dtypes\n",
    "col_dtypes"
   ]
  },
  {
   "cell_type": "markdown",
   "metadata": {},
   "source": [
    "**Theo mô tả dữ liệu, ta có thể thấy các cột dữ liệu có dtype = 'object' đều là dữ liệu dạng string**"
   ]
  },
  {
   "cell_type": "markdown",
   "metadata": {},
   "source": [
    "Kiểm tra nhận xét trên:"
   ]
  },
  {
   "cell_type": "code",
   "execution_count": 8,
   "metadata": {},
   "outputs": [
    {
     "name": "stdout",
     "output_type": "stream",
     "text": [
      "{<class 'str'>}\n",
      "{<class 'str'>}\n",
      "{<class 'str'>}\n",
      "{<class 'str'>}\n",
      "{<class 'str'>}\n",
      "{<class 'str'>}\n",
      "{<class 'str'>}\n",
      "{<class 'str'>}\n",
      "{<class 'str'>}\n",
      "{<class 'str'>}\n"
     ]
    }
   ],
   "source": [
    "def open_object_dtype(s):\n",
    "    dtypes = set()\n",
    "    for i in range(s.shape[0]):\n",
    "        if not type(s.iloc[i]) in dtypes:\n",
    "            dtypes.add(type(s.iloc[i])) \n",
    "    return dtypes\n",
    "col = ['name', 'manner_of_death', 'armed', 'gender', 'race', 'city','state', 'threat_level', 'flee', 'arms_category']\n",
    "\n",
    "for c in col:\n",
    "    print(open_object_dtype(df[c]))"
   ]
  },
  {
   "cell_type": "markdown",
   "metadata": {},
   "source": [
    "Vậy, tất cả các cột dữ liệu dạng `object` đều là string"
   ]
  },
  {
   "cell_type": "markdown",
   "metadata": {},
   "source": [
    "### Tiền xử lí dữ liệu\n",
    "*Giải quyết các vấn đề của dữ liệu*"
   ]
  },
  {
   "cell_type": "markdown",
   "metadata": {},
   "source": [
    "#### Kiểm tra các giá trị bị khuyết"
   ]
  },
  {
   "cell_type": "code",
   "execution_count": 9,
   "metadata": {},
   "outputs": [
    {
     "data": {
      "text/plain": [
       "id                         0\n",
       "name                       0\n",
       "date                       0\n",
       "manner_of_death            0\n",
       "armed                      0\n",
       "age                        0\n",
       "gender                     0\n",
       "race                       0\n",
       "city                       0\n",
       "state                      0\n",
       "signs_of_mental_illness    0\n",
       "threat_level               0\n",
       "flee                       0\n",
       "body_camera                0\n",
       "arms_category              0\n",
       "dtype: int64"
      ]
     },
     "execution_count": 9,
     "metadata": {},
     "output_type": "execute_result"
    }
   ],
   "source": [
    "df.isna().sum()"
   ]
  },
  {
   "cell_type": "markdown",
   "metadata": {},
   "source": [
    "Ta có thể thấy có vẻ là không có mẫu dữ liệu nào bị khuyết. So good (xD)"
   ]
  },
  {
   "cell_type": "markdown",
   "metadata": {},
   "source": [
    "#### Xử lí dữ liệu datetime:\n",
    "Chuyển dữ liệu cột `date` về dạng datetime, kiểm tra miền giá trị của các năm mà dữ liệu được thu thập"
   ]
  },
  {
   "cell_type": "code",
   "execution_count": 10,
   "metadata": {},
   "outputs": [
    {
     "data": {
      "text/plain": [
       "array([2015, 2016, 2017, 2018, 2019, 2020], dtype=int64)"
      ]
     },
     "execution_count": 10,
     "metadata": {},
     "output_type": "execute_result"
    }
   ],
   "source": [
    "df['date'] = pd.to_datetime(df['date'])\n",
    "df['date'].dt.year.unique()"
   ]
  },
  {
   "cell_type": "markdown",
   "metadata": {},
   "source": [
    "## KHÁM PHÁ DỮ LIỆU"
   ]
  },
  {
   "cell_type": "markdown",
   "metadata": {},
   "source": [
    "#### Xem xét miền giá trị của các cột dữ liệu Numeric và datetime"
   ]
  },
  {
   "cell_type": "code",
   "execution_count": 11,
   "metadata": {},
   "outputs": [
    {
     "data": {
      "text/html": [
       "<div>\n",
       "<style scoped>\n",
       "    .dataframe tbody tr th:only-of-type {\n",
       "        vertical-align: middle;\n",
       "    }\n",
       "\n",
       "    .dataframe tbody tr th {\n",
       "        vertical-align: top;\n",
       "    }\n",
       "\n",
       "    .dataframe thead th {\n",
       "        text-align: right;\n",
       "    }\n",
       "</style>\n",
       "<table border=\"1\" class=\"dataframe\">\n",
       "  <thead>\n",
       "    <tr style=\"text-align: right;\">\n",
       "      <th></th>\n",
       "      <th>min</th>\n",
       "      <th>max</th>\n",
       "    </tr>\n",
       "  </thead>\n",
       "  <tbody>\n",
       "    <tr>\n",
       "      <th>id</th>\n",
       "      <td>3</td>\n",
       "      <td>5925</td>\n",
       "    </tr>\n",
       "    <tr>\n",
       "      <th>date</th>\n",
       "      <td>2015-01-02 00:00:00</td>\n",
       "      <td>2020-06-15 00:00:00</td>\n",
       "    </tr>\n",
       "    <tr>\n",
       "      <th>age</th>\n",
       "      <td>6</td>\n",
       "      <td>91</td>\n",
       "    </tr>\n",
       "  </tbody>\n",
       "</table>\n",
       "</div>"
      ],
      "text/plain": [
       "                      min                  max\n",
       "id                      3                 5925\n",
       "date  2015-01-02 00:00:00  2020-06-15 00:00:00\n",
       "age                     6                   91"
      ]
     },
     "execution_count": 11,
     "metadata": {},
     "output_type": "execute_result"
    }
   ],
   "source": [
    "numeric_col = ['id', 'date','age']\n",
    "max = df[numeric_col].max(axis = 0)\n",
    "min =  df[numeric_col].min(axis = 0)\n",
    "numeric_col_ranges_df = pd.DataFrame(data = [min,max],index = ['min','max']).T\n",
    "numeric_col_ranges_df"
   ]
  },
  {
   "cell_type": "markdown",
   "metadata": {},
   "source": [
    "#### Xem xét miền giá trị của các cột dữ liệu categorical"
   ]
  },
  {
   "cell_type": "code",
   "execution_count": 12,
   "metadata": {},
   "outputs": [
    {
     "data": {
      "text/html": [
       "<div>\n",
       "<style scoped>\n",
       "    .dataframe tbody tr th:only-of-type {\n",
       "        vertical-align: middle;\n",
       "    }\n",
       "\n",
       "    .dataframe tbody tr th {\n",
       "        vertical-align: top;\n",
       "    }\n",
       "\n",
       "    .dataframe thead th {\n",
       "        text-align: right;\n",
       "    }\n",
       "</style>\n",
       "<table border=\"1\" class=\"dataframe\">\n",
       "  <thead>\n",
       "    <tr style=\"text-align: right;\">\n",
       "      <th></th>\n",
       "      <th>NumUniqueVals</th>\n",
       "      <th>ThreeFirstVals</th>\n",
       "    </tr>\n",
       "  </thead>\n",
       "  <tbody>\n",
       "    <tr>\n",
       "      <th>name</th>\n",
       "      <td>4851</td>\n",
       "      <td>[ Austin Wilburly  Reid, A'Donte Washington, A...</td>\n",
       "    </tr>\n",
       "    <tr>\n",
       "      <th>manner_of_death</th>\n",
       "      <td>2</td>\n",
       "      <td>[shot, shot and Tasered]</td>\n",
       "    </tr>\n",
       "    <tr>\n",
       "      <th>armed</th>\n",
       "      <td>89</td>\n",
       "      <td>[BB gun, BB gun and vehicle, Taser]</td>\n",
       "    </tr>\n",
       "    <tr>\n",
       "      <th>gender</th>\n",
       "      <td>2</td>\n",
       "      <td>[F, M]</td>\n",
       "    </tr>\n",
       "    <tr>\n",
       "      <th>race</th>\n",
       "      <td>6</td>\n",
       "      <td>[Asian, Black, Hispanic]</td>\n",
       "    </tr>\n",
       "    <tr>\n",
       "      <th>city</th>\n",
       "      <td>2288</td>\n",
       "      <td>[Abbeville, Aberdeen, Abilene]</td>\n",
       "    </tr>\n",
       "    <tr>\n",
       "      <th>state</th>\n",
       "      <td>51</td>\n",
       "      <td>[AK, AL, AR]</td>\n",
       "    </tr>\n",
       "    <tr>\n",
       "      <th>threat_level</th>\n",
       "      <td>3</td>\n",
       "      <td>[attack, other, undetermined]</td>\n",
       "    </tr>\n",
       "    <tr>\n",
       "      <th>flee</th>\n",
       "      <td>4</td>\n",
       "      <td>[Car, Foot, Not fleeing]</td>\n",
       "    </tr>\n",
       "    <tr>\n",
       "      <th>arms_category</th>\n",
       "      <td>12</td>\n",
       "      <td>[Blunt instruments, Electrical devices, Explos...</td>\n",
       "    </tr>\n",
       "  </tbody>\n",
       "</table>\n",
       "</div>"
      ],
      "text/plain": [
       "                NumUniqueVals  \\\n",
       "name                     4851   \n",
       "manner_of_death             2   \n",
       "armed                      89   \n",
       "gender                      2   \n",
       "race                        6   \n",
       "city                     2288   \n",
       "state                      51   \n",
       "threat_level                3   \n",
       "flee                        4   \n",
       "arms_category              12   \n",
       "\n",
       "                                                    ThreeFirstVals  \n",
       "name             [ Austin Wilburly  Reid, A'Donte Washington, A...  \n",
       "manner_of_death                           [shot, shot and Tasered]  \n",
       "armed                          [BB gun, BB gun and vehicle, Taser]  \n",
       "gender                                                      [F, M]  \n",
       "race                                      [Asian, Black, Hispanic]  \n",
       "city                                [Abbeville, Aberdeen, Abilene]  \n",
       "state                                                 [AK, AL, AR]  \n",
       "threat_level                         [attack, other, undetermined]  \n",
       "flee                                      [Car, Foot, Not fleeing]  \n",
       "arms_category    [Blunt instruments, Electrical devices, Explos...  "
      ]
     },
     "execution_count": 12,
     "metadata": {},
     "output_type": "execute_result"
    }
   ],
   "source": [
    "cat_col = ['name', 'manner_of_death', 'armed', 'gender', 'race', 'city','state', 'threat_level', 'flee', 'arms_category']\n",
    "\n",
    "NumUniqueVals = df[cat_col].nunique()\n",
    "ThreeFirstVals = pd.Series([sorted(df[c].unique())[0:3] for c in cat_col],index = cat_col)\n",
    "cat_col_ranges_df = pd.DataFrame(data = [NumUniqueVals,ThreeFirstVals],index = [\"NumUniqueVals\", \"ThreeFirstVals\"]).T\n",
    "cat_col_ranges_df"
   ]
  },
  {
   "cell_type": "markdown",
   "metadata": {},
   "source": [
    "#### ID có phải là thuộc tính có giá trị duy nhất không?"
   ]
  },
  {
   "cell_type": "code",
   "execution_count": 13,
   "metadata": {},
   "outputs": [
    {
     "data": {
      "text/plain": [
       "True"
      ]
     },
     "execution_count": 13,
     "metadata": {},
     "output_type": "execute_result"
    }
   ],
   "source": [
    "df['id'].nunique() == df.shape[0]"
   ]
  },
  {
   "cell_type": "markdown",
   "metadata": {},
   "source": [
    "`ID` chính là giá trị duy nhất cho mỗi mẫu dữ liệu"
   ]
  },
  {
   "cell_type": "markdown",
   "metadata": {},
   "source": [
    "#### Làm rõ các cột `city` và `state`\n",
    "\n",
    "Theo Quora, State là một đơn vị hành chính bao gồm nhiều Cities, Countries, region, villages, town, etc.. (https://qr.ae/pN2mFS).\n",
    "\n",
    "Vì vậy, ta kiểm tra xem có city nào thuộc nhiều hơn 1 state không"
   ]
  },
  {
   "cell_type": "code",
   "execution_count": 14,
   "metadata": {},
   "outputs": [
    {
     "data": {
      "text/plain": [
       "array([0.18908382])"
      ]
     },
     "execution_count": 14,
     "metadata": {},
     "output_type": "execute_result"
    }
   ],
   "source": [
    "num_State_df = df.groupby('city').agg({'state':'nunique'})\n",
    "idx = num_State_df[num_State_df['state'] > 1].index.to_list()\n",
    "multi_state_ratio = (num_State_df.loc[idx].sum()/num_State_df.sum()).values\n",
    "multi_state_ratio"
   ]
  },
  {
   "cell_type": "markdown",
   "metadata": {},
   "source": [
    "Danh sách các city thuộc nhiều hơn 1 state và state tương ứng - id để định danh các mẫu dữ liệu là duy nhất"
   ]
  },
  {
   "cell_type": "code",
   "execution_count": 15,
   "metadata": {},
   "outputs": [
    {
     "data": {
      "text/html": [
       "<div>\n",
       "<style scoped>\n",
       "    .dataframe tbody tr th:only-of-type {\n",
       "        vertical-align: middle;\n",
       "    }\n",
       "\n",
       "    .dataframe tbody tr th {\n",
       "        vertical-align: top;\n",
       "    }\n",
       "\n",
       "    .dataframe thead th {\n",
       "        text-align: right;\n",
       "    }\n",
       "</style>\n",
       "<table border=\"1\" class=\"dataframe\">\n",
       "  <thead>\n",
       "    <tr style=\"text-align: right;\">\n",
       "      <th></th>\n",
       "      <th>id</th>\n",
       "      <th>city</th>\n",
       "      <th>state</th>\n",
       "    </tr>\n",
       "  </thead>\n",
       "  <tbody>\n",
       "    <tr>\n",
       "      <th>4232</th>\n",
       "      <td>5025</td>\n",
       "      <td>Aberdeen</td>\n",
       "      <td>WA</td>\n",
       "    </tr>\n",
       "    <tr>\n",
       "      <th>3350</th>\n",
       "      <td>3904</td>\n",
       "      <td>Aberdeen</td>\n",
       "      <td>NC</td>\n",
       "    </tr>\n",
       "    <tr>\n",
       "      <th>1069</th>\n",
       "      <td>1254</td>\n",
       "      <td>Abingdon</td>\n",
       "      <td>MD</td>\n",
       "    </tr>\n",
       "    <tr>\n",
       "      <th>2603</th>\n",
       "      <td>3003</td>\n",
       "      <td>Abingdon</td>\n",
       "      <td>VA</td>\n",
       "    </tr>\n",
       "    <tr>\n",
       "      <th>1615</th>\n",
       "      <td>1867</td>\n",
       "      <td>Albany</td>\n",
       "      <td>GA</td>\n",
       "    </tr>\n",
       "    <tr>\n",
       "      <th>...</th>\n",
       "      <td>...</td>\n",
       "      <td>...</td>\n",
       "      <td>...</td>\n",
       "    </tr>\n",
       "    <tr>\n",
       "      <th>1834</th>\n",
       "      <td>2112</td>\n",
       "      <td>York</td>\n",
       "      <td>NE</td>\n",
       "    </tr>\n",
       "    <tr>\n",
       "      <th>2736</th>\n",
       "      <td>3173</td>\n",
       "      <td>York</td>\n",
       "      <td>SC</td>\n",
       "    </tr>\n",
       "    <tr>\n",
       "      <th>767</th>\n",
       "      <td>930</td>\n",
       "      <td>York</td>\n",
       "      <td>PA</td>\n",
       "    </tr>\n",
       "    <tr>\n",
       "      <th>1772</th>\n",
       "      <td>2048</td>\n",
       "      <td>York County</td>\n",
       "      <td>PA</td>\n",
       "    </tr>\n",
       "    <tr>\n",
       "      <th>449</th>\n",
       "      <td>569</td>\n",
       "      <td>York County</td>\n",
       "      <td>VA</td>\n",
       "    </tr>\n",
       "  </tbody>\n",
       "</table>\n",
       "<p>1106 rows × 3 columns</p>\n",
       "</div>"
      ],
      "text/plain": [
       "        id         city state\n",
       "4232  5025     Aberdeen    WA\n",
       "3350  3904     Aberdeen    NC\n",
       "1069  1254     Abingdon    MD\n",
       "2603  3003     Abingdon    VA\n",
       "1615  1867       Albany    GA\n",
       "...    ...          ...   ...\n",
       "1834  2112         York    NE\n",
       "2736  3173         York    SC\n",
       "767    930         York    PA\n",
       "1772  2048  York County    PA\n",
       "449    569  York County    VA\n",
       "\n",
       "[1106 rows x 3 columns]"
      ]
     },
     "execution_count": 15,
     "metadata": {},
     "output_type": "execute_result"
    }
   ],
   "source": [
    "df[df['city'].isin(idx)].sort_values(by = 'city')[['id','city','state']]"
   ]
  },
  {
   "cell_type": "markdown",
   "metadata": {},
   "source": [
    "# ĐƯA RA CÁC CÂU HỎI\n"
   ]
  },
  {
   "cell_type": "markdown",
   "metadata": {},
   "source": [
    "## 1. Độ tuổi của các nạn nhân được phân bố như thế nào?\n",
    "\n",
    "Câu hỏi này có thể làm rõ về xu hướng các người liên quan đến vụ việc thường ở nhóm tuổi nào?"
   ]
  },
  {
   "cell_type": "code",
   "execution_count": 16,
   "metadata": {},
   "outputs": [
    {
     "data": {
      "image/png": "[encoded data removed]",
      "text/plain": [
       "<Figure size 1152x648 with 1 Axes>"
      ]
     },
     "metadata": {
      "needs_background": "light"
     },
     "output_type": "display_data"
    }
   ],
   "source": [
    "bins = range(int(numeric_col_ranges_df.loc['age','min']),int(numeric_col_ranges_df.loc['age','max']))\n",
    "plt.figure(figsize = (16,9))\n",
    "plt.hist(df['age'], bins = bins,edgecolor = 'black',density = True)\n",
    "plt.gca().set(title='Age Distribution Histogram', xlabel = 'Age', ylabel='Frequency');\n",
    "plt.show()"
   ]
  },
  {
   "cell_type": "markdown",
   "metadata": {},
   "source": [
    "Nhận xét:\n",
    "- Phân bố độ tuổi tập trung nhiều ở nhóm người từ 20 đến 40 tuổi"
   ]
  },
  {
   "cell_type": "markdown",
   "metadata": {},
   "source": [
    "## 2. Số 'event' diễn ra theo Thời gian\n",
    "Một số vấn đề có thể được làm rõ khi trả lời câu hỏi này:\n",
    "\n",
    "    Số lượng 'event' tăng hay giảm dần theo năm?\n",
    "    Số lượng 'event' có liên quan đến các tháng trong năm không?\n",
    "    Các event có xu hướng diễn ra vào khoảng thời gian nào trong năm"
   ]
  },
  {
   "cell_type": "markdown",
   "metadata": {},
   "source": [
    "#### Số 'event' theo năm"
   ]
  },
  {
   "cell_type": "markdown",
   "metadata": {},
   "source": [
    "Lọc ra `ID` và `Year` của dataframe, sau đó dùng barchart để xem sự thay đổi qua các năm"
   ]
  },
  {
   "cell_type": "code",
   "execution_count": 17,
   "metadata": {},
   "outputs": [
    {
     "data": {
      "image/png": "[encoded data removed]",
      "text/plain": [
       "<Figure size 1152x648 with 1 Axes>"
      ]
     },
     "metadata": {
      "needs_background": "light"
     },
     "output_type": "display_data"
    }
   ],
   "source": [
    "event_by_year = df[['id']].copy()\n",
    "event_by_year['Year'] = df['date'].dt.year.copy()\n",
    "year_count_df = event_by_year.groupby('Year').agg({'id':'nunique'}).reset_index()\n",
    "\n",
    "plt.figure(figsize = (16,9))\n",
    "ax = sns.barplot(x = 'Year',y = 'id',data = year_count_df)\n",
    "ax.set(xlabel='Year', ylabel='Total Event')\n",
    "for index, row in year_count_df.iterrows():\n",
    "    ax.text(row.name,row.id, row.id, color='black', ha=\"center\")\n",
    "\n",
    "plt.show()"
   ]
  },
  {
   "cell_type": "markdown",
   "metadata": {},
   "source": [
    "Nhận xét:\n",
    "- Có vẻ là số vụ việc diễn ra thay đổi không đáng kể theo từng năm.\n",
    "- Năm 2020 xảy ra ít vụ việc nhất, tuy nhiên dữ liệu chỉ được thu thập đến ngày 15-6, do đó điều này không nói lên gì cả"
   ]
  },
  {
   "cell_type": "markdown",
   "metadata": {},
   "source": [
    "### Số 'event' diễn ra như thế nào theo các tháng\n"
   ]
  },
  {
   "cell_type": "code",
   "execution_count": 18,
   "metadata": {},
   "outputs": [
    {
     "data": {
      "image/png": "[encoded data removed]",
      "text/plain": [
       "<Figure size 1152x648 with 1 Axes>"
      ]
     },
     "metadata": {
      "needs_background": "light"
     },
     "output_type": "display_data"
    }
   ],
   "source": [
    "event_by_datetime = df[['id']].copy()\n",
    "event_by_datetime['Month'] = df['date'].dt.month.copy()\n",
    "month_count_df = event_by_datetime.groupby('Month').agg({'id':'nunique'}).reset_index()\n",
    "\n",
    "plt.figure(figsize = (16,9))\n",
    "ax = sns.barplot(x = 'Month',y = 'id',data = month_count_df)\n",
    "ax.set(xlabel='Month', ylabel='Total Event')\n",
    "for index, row in month_count_df.iterrows():\n",
    "    ax.text(row.name,row.id, row.id, color='black', ha=\"center\")\n",
    "\n",
    "plt.show()"
   ]
  },
  {
   "cell_type": "markdown",
   "metadata": {},
   "source": [
    "Nhận xét:\n",
    "- Có vẻ là số vụ việc diễn ra thay đổi không đáng kể theo các tháng\n",
    "- Những tháng đầu năm là những tháng xảy ra sự việc nhiều nhất"
   ]
  },
  {
   "cell_type": "markdown",
   "metadata": {},
   "source": [
    "## 3. Loại vũ khí cảnh sát sử dụng có liên quan đến người đó có mang camera không?\n",
    "\n",
    "Khi sự việc được ghi nhận, có sự khác biệt nào giữa vũ khí khi được dùng của người Policeman có mang camera và không"
   ]
  },
  {
   "cell_type": "code",
   "execution_count": 19,
   "metadata": {},
   "outputs": [
    {
     "data": {
      "text/html": [
       "<div>\n",
       "<style scoped>\n",
       "    .dataframe tbody tr th:only-of-type {\n",
       "        vertical-align: middle;\n",
       "    }\n",
       "\n",
       "    .dataframe tbody tr th {\n",
       "        vertical-align: top;\n",
       "    }\n",
       "\n",
       "    .dataframe thead th {\n",
       "        text-align: right;\n",
       "    }\n",
       "</style>\n",
       "<table border=\"1\" class=\"dataframe\">\n",
       "  <thead>\n",
       "    <tr style=\"text-align: right;\">\n",
       "      <th></th>\n",
       "      <th>armed</th>\n",
       "      <th>body_camera</th>\n",
       "    </tr>\n",
       "  </thead>\n",
       "  <tbody>\n",
       "    <tr>\n",
       "      <th>0</th>\n",
       "      <td>gun</td>\n",
       "      <td>False</td>\n",
       "    </tr>\n",
       "    <tr>\n",
       "      <th>1</th>\n",
       "      <td>gun</td>\n",
       "      <td>False</td>\n",
       "    </tr>\n",
       "    <tr>\n",
       "      <th>2</th>\n",
       "      <td>unarmed</td>\n",
       "      <td>False</td>\n",
       "    </tr>\n",
       "    <tr>\n",
       "      <th>3</th>\n",
       "      <td>toy weapon</td>\n",
       "      <td>False</td>\n",
       "    </tr>\n",
       "    <tr>\n",
       "      <th>4</th>\n",
       "      <td>nail gun</td>\n",
       "      <td>False</td>\n",
       "    </tr>\n",
       "    <tr>\n",
       "      <th>...</th>\n",
       "      <td>...</td>\n",
       "      <td>...</td>\n",
       "    </tr>\n",
       "    <tr>\n",
       "      <th>4890</th>\n",
       "      <td>Taser</td>\n",
       "      <td>True</td>\n",
       "    </tr>\n",
       "    <tr>\n",
       "      <th>4891</th>\n",
       "      <td>gun</td>\n",
       "      <td>False</td>\n",
       "    </tr>\n",
       "    <tr>\n",
       "      <th>4892</th>\n",
       "      <td>unarmed</td>\n",
       "      <td>False</td>\n",
       "    </tr>\n",
       "    <tr>\n",
       "      <th>4893</th>\n",
       "      <td>gun</td>\n",
       "      <td>False</td>\n",
       "    </tr>\n",
       "    <tr>\n",
       "      <th>4894</th>\n",
       "      <td>gun</td>\n",
       "      <td>False</td>\n",
       "    </tr>\n",
       "  </tbody>\n",
       "</table>\n",
       "<p>4895 rows × 2 columns</p>\n",
       "</div>"
      ],
      "text/plain": [
       "           armed  body_camera\n",
       "0            gun        False\n",
       "1            gun        False\n",
       "2        unarmed        False\n",
       "3     toy weapon        False\n",
       "4       nail gun        False\n",
       "...          ...          ...\n",
       "4890       Taser         True\n",
       "4891         gun        False\n",
       "4892     unarmed        False\n",
       "4893         gun        False\n",
       "4894         gun        False\n",
       "\n",
       "[4895 rows x 2 columns]"
      ]
     },
     "execution_count": 19,
     "metadata": {},
     "output_type": "execute_result"
    }
   ],
   "source": [
    "armed_camera_df = df[['armed','body_camera']]\n",
    "armed_camera_df "
   ]
  },
  {
   "cell_type": "markdown",
   "metadata": {},
   "source": [
    "Kiểm tra các giá trị rời rạc của `body_camera` và `armed`"
   ]
  },
  {
   "cell_type": "code",
   "execution_count": 20,
   "metadata": {},
   "outputs": [
    {
     "data": {
      "text/plain": [
       "(array([False,  True]),\n",
       " array(['gun', 'unarmed', 'toy weapon', 'nail gun', 'knife', 'unknown',\n",
       "        'shovel', 'hammer', 'hatchet', 'sword', 'machete', 'box cutter',\n",
       "        'metal object', 'screwdriver', 'lawn mower blade', 'flagpole',\n",
       "        'guns and explosives', 'cordless drill', 'metal pole', 'Taser',\n",
       "        'metal pipe', 'metal hand tool', 'blunt object', 'metal stick',\n",
       "        'sharp object', 'meat cleaver', 'carjack', 'chain',\n",
       "        \"contractor's level\", 'stapler', 'crossbow', 'bean-bag gun',\n",
       "        'baseball bat and fireplace poker', 'straight edge razor',\n",
       "        'gun and knife', 'ax', 'brick', 'baseball bat', 'hand torch',\n",
       "        'chain saw', 'garden tool', 'scissors', 'pole', 'pick-axe',\n",
       "        'flashlight', 'vehicle', 'spear', 'chair', 'pitchfork',\n",
       "        'hatchet and gun', 'rock', 'piece of wood', 'bayonet', 'pipe',\n",
       "        'glass shard', 'motorcycle', 'pepper spray', 'metal rake', 'baton',\n",
       "        'crowbar', 'oar', 'machete and gun', 'air conditioner',\n",
       "        'pole and knife', 'beer bottle', 'baseball bat and bottle',\n",
       "        'fireworks', 'pen', 'chainsaw', 'gun and sword', 'gun and car',\n",
       "        'pellet gun', 'BB gun', 'incendiary device', 'samurai sword',\n",
       "        'bow and arrow', 'gun and vehicle', 'vehicle and gun', 'wrench',\n",
       "        'walking stick', 'barstool', 'grenade', 'BB gun and vehicle',\n",
       "        'wasp spray', 'air pistol', 'baseball bat and knife',\n",
       "        'vehicle and machete', 'ice pick', 'car, knife and mace'],\n",
       "       dtype=object))"
      ]
     },
     "execution_count": 20,
     "metadata": {},
     "output_type": "execute_result"
    }
   ],
   "source": [
    "armed_camera_df['body_camera'].unique(),armed_camera_df['armed'].unique()"
   ]
  },
  {
   "cell_type": "markdown",
   "metadata": {},
   "source": [
    "Bao nhiêu vũ khí được sử dụng khi mang camera và không?"
   ]
  },
  {
   "cell_type": "code",
   "execution_count": 21,
   "metadata": {},
   "outputs": [
    {
     "data": {
      "text/html": [
       "<div>\n",
       "<style scoped>\n",
       "    .dataframe tbody tr th:only-of-type {\n",
       "        vertical-align: middle;\n",
       "    }\n",
       "\n",
       "    .dataframe tbody tr th {\n",
       "        vertical-align: top;\n",
       "    }\n",
       "\n",
       "    .dataframe thead th {\n",
       "        text-align: right;\n",
       "    }\n",
       "</style>\n",
       "<table border=\"1\" class=\"dataframe\">\n",
       "  <thead>\n",
       "    <tr style=\"text-align: right;\">\n",
       "      <th></th>\n",
       "      <th>armed</th>\n",
       "    </tr>\n",
       "    <tr>\n",
       "      <th>body_camera</th>\n",
       "      <th></th>\n",
       "    </tr>\n",
       "  </thead>\n",
       "  <tbody>\n",
       "    <tr>\n",
       "      <th>False</th>\n",
       "      <td>85</td>\n",
       "    </tr>\n",
       "    <tr>\n",
       "      <th>True</th>\n",
       "      <td>35</td>\n",
       "    </tr>\n",
       "  </tbody>\n",
       "</table>\n",
       "</div>"
      ],
      "text/plain": [
       "             armed\n",
       "body_camera       \n",
       "False           85\n",
       "True            35"
      ]
     },
     "execution_count": 21,
     "metadata": {},
     "output_type": "execute_result"
    }
   ],
   "source": [
    "armed_camera_df.groupby('body_camera').agg({'armed':'nunique'})"
   ]
  },
  {
   "cell_type": "markdown",
   "metadata": {},
   "source": [
    "Những vũ khí nào không được sử dụng khi người mang nó có đeo camera"
   ]
  },
  {
   "cell_type": "code",
   "execution_count": 22,
   "metadata": {},
   "outputs": [],
   "source": [
    "groupbycamera_df = armed_camera_df.groupby('body_camera').agg({'armed':'unique'}).reset_index()\n",
    "camera_false = groupbycamera_df.loc[0,'armed'].tolist()\n",
    "camera_true = groupbycamera_df.loc[1,'armed'].tolist()"
   ]
  },
  {
   "cell_type": "markdown",
   "metadata": {},
   "source": [
    "In ra các loại vũ khí chỉ được ghi nhận trong lúc người Policeman đó không mang camera"
   ]
  },
  {
   "cell_type": "code",
   "execution_count": 23,
   "metadata": {},
   "outputs": [
    {
     "name": "stdout",
     "output_type": "stream",
     "text": [
      "nail gun\n",
      "sword\n",
      "metal object\n",
      "lawn mower blade\n",
      "flagpole\n",
      "guns and explosives\n",
      "cordless drill\n",
      "metal pole\n",
      "metal hand tool\n",
      "blunt object\n",
      "meat cleaver\n",
      "carjack\n",
      "contractor's level\n",
      "stapler\n",
      "crossbow\n",
      "bean-bag gun\n",
      "baseball bat and fireplace poker\n",
      "brick\n",
      "hand torch\n",
      "chain saw\n",
      "spear\n",
      "chair\n",
      "pitchfork\n",
      "hatchet and gun\n",
      "piece of wood\n",
      "bayonet\n",
      "pipe\n",
      "glass shard\n",
      "motorcycle\n",
      "pepper spray\n",
      "metal rake\n",
      "baton\n",
      "oar\n",
      "machete and gun\n",
      "air conditioner\n",
      "pole and knife\n",
      "beer bottle\n",
      "baseball bat and bottle\n",
      "fireworks\n",
      "pen\n",
      "chainsaw\n",
      "gun and sword\n",
      "pellet gun\n",
      "bow and arrow\n",
      "gun and vehicle\n",
      "vehicle and gun\n",
      "walking stick\n",
      "barstool\n",
      "grenade\n",
      "BB gun and vehicle\n",
      "wasp spray\n",
      "air pistol\n",
      "baseball bat and knife\n",
      "car, knife and mace\n"
     ]
    }
   ],
   "source": [
    "for armed in armed_camera_df['armed'].unique():\n",
    "    if armed in camera_false:\n",
    "        if armed not in camera_true:\n",
    "            print(armed)"
   ]
  },
  {
   "cell_type": "markdown",
   "metadata": {},
   "source": [
    "Nhận xét:\n",
    "- Ta thấy flashlight, wrench, vehicle and machete, ice pick là những vũ khí không \"chính thống\" (Không có khả năng sát thương cao như súng, dao,...)\n",
    "- Có thể đây là những trường hợp khẩn cấp"
   ]
  },
  {
   "cell_type": "markdown",
   "metadata": {},
   "source": [
    "## 4. Giới tính của những người trong sự việc\n",
    "\n",
    "Về văn hóa phương Tây, phụ nữ và trẻ em sẽ được ưu tiên đối xử hơn các đối tượng khác.\n",
    "\n",
    "Vậy có phải các mục tiêu trong trường hợp này có bị ảnh hưởng bởi giới tính?"
   ]
  },
  {
   "cell_type": "code",
   "execution_count": 24,
   "metadata": {},
   "outputs": [
    {
     "data": {
      "image/png": "[encoded data removed]",
      "text/plain": [
       "<Figure size 1152x648 with 1 Axes>"
      ]
     },
     "metadata": {
      "needs_background": "light"
     },
     "output_type": "display_data"
    }
   ],
   "source": [
    "sex_df = df.groupby('gender').agg({'id':'count'}).reset_index()\n",
    "\n",
    "plt.figure(figsize = (16,9))\n",
    "sns.barplot(x = 'gender', y = 'id', data = sex_df)\n",
    "plt.show()"
   ]
  },
  {
   "cell_type": "markdown",
   "metadata": {},
   "source": [
    "Nhận xét:\n",
    "- Nhìn chung, có vẻ là giới tính ảnh hưởng nhiều đến sự việc\n",
    "- Nam giới có tỉ lệ cao hơn rất nhiều so với nữ giới"
   ]
  },
  {
   "cell_type": "markdown",
   "metadata": {},
   "source": [
    "Để làm rõ hơn, chúng ta tính tỉ lệ của các nhóm giới tính"
   ]
  },
  {
   "cell_type": "code",
   "execution_count": 25,
   "metadata": {},
   "outputs": [
    {
     "data": {
      "text/html": [
       "<div>\n",
       "<style scoped>\n",
       "    .dataframe tbody tr th:only-of-type {\n",
       "        vertical-align: middle;\n",
       "    }\n",
       "\n",
       "    .dataframe tbody tr th {\n",
       "        vertical-align: top;\n",
       "    }\n",
       "\n",
       "    .dataframe thead th {\n",
       "        text-align: right;\n",
       "    }\n",
       "</style>\n",
       "<table border=\"1\" class=\"dataframe\">\n",
       "  <thead>\n",
       "    <tr style=\"text-align: right;\">\n",
       "      <th></th>\n",
       "      <th>gender</th>\n",
       "      <th>ratio</th>\n",
       "    </tr>\n",
       "  </thead>\n",
       "  <tbody>\n",
       "    <tr>\n",
       "      <th>0</th>\n",
       "      <td>F</td>\n",
       "      <td>0.045352</td>\n",
       "    </tr>\n",
       "    <tr>\n",
       "      <th>1</th>\n",
       "      <td>M</td>\n",
       "      <td>0.954648</td>\n",
       "    </tr>\n",
       "  </tbody>\n",
       "</table>\n",
       "</div>"
      ],
      "text/plain": [
       "  gender     ratio\n",
       "0      F  0.045352\n",
       "1      M  0.954648"
      ]
     },
     "execution_count": 25,
     "metadata": {},
     "output_type": "execute_result"
    }
   ],
   "source": [
    "sex_df['ratio'] = sex_df['id'] / sex_df['id'].sum()\n",
    "sex_df[['gender','ratio']]"
   ]
  },
  {
   "cell_type": "markdown",
   "metadata": {},
   "source": [
    "Nam giới chiếm tỉ lệ gần 100%"
   ]
  },
  {
   "cell_type": "markdown",
   "metadata": {},
   "source": [
    "## 5. Sự liên quan của Chủng tộc (Sắc tộc - `Race`) trong sự việc\n",
    "\n",
    "Phải chăng người da đen có tỉ lệ trong các vụ cao nhất?"
   ]
  },
  {
   "cell_type": "code",
   "execution_count": 26,
   "metadata": {},
   "outputs": [
    {
     "data": {
      "text/html": [
       "<div>\n",
       "<style scoped>\n",
       "    .dataframe tbody tr th:only-of-type {\n",
       "        vertical-align: middle;\n",
       "    }\n",
       "\n",
       "    .dataframe tbody tr th {\n",
       "        vertical-align: top;\n",
       "    }\n",
       "\n",
       "    .dataframe thead th {\n",
       "        text-align: right;\n",
       "    }\n",
       "</style>\n",
       "<table border=\"1\" class=\"dataframe\">\n",
       "  <thead>\n",
       "    <tr style=\"text-align: right;\">\n",
       "      <th></th>\n",
       "      <th>race</th>\n",
       "      <th>id</th>\n",
       "      <th>ratio</th>\n",
       "    </tr>\n",
       "  </thead>\n",
       "  <tbody>\n",
       "    <tr>\n",
       "      <th>0</th>\n",
       "      <td>White</td>\n",
       "      <td>2476</td>\n",
       "      <td>0.505822</td>\n",
       "    </tr>\n",
       "    <tr>\n",
       "      <th>1</th>\n",
       "      <td>Black</td>\n",
       "      <td>1298</td>\n",
       "      <td>0.265169</td>\n",
       "    </tr>\n",
       "    <tr>\n",
       "      <th>2</th>\n",
       "      <td>Hispanic</td>\n",
       "      <td>902</td>\n",
       "      <td>0.184270</td>\n",
       "    </tr>\n",
       "    <tr>\n",
       "      <th>3</th>\n",
       "      <td>Asian</td>\n",
       "      <td>93</td>\n",
       "      <td>0.018999</td>\n",
       "    </tr>\n",
       "    <tr>\n",
       "      <th>4</th>\n",
       "      <td>Native</td>\n",
       "      <td>78</td>\n",
       "      <td>0.015935</td>\n",
       "    </tr>\n",
       "    <tr>\n",
       "      <th>5</th>\n",
       "      <td>Other</td>\n",
       "      <td>48</td>\n",
       "      <td>0.009806</td>\n",
       "    </tr>\n",
       "  </tbody>\n",
       "</table>\n",
       "</div>"
      ],
      "text/plain": [
       "       race    id     ratio\n",
       "0     White  2476  0.505822\n",
       "1     Black  1298  0.265169\n",
       "2  Hispanic   902  0.184270\n",
       "3     Asian    93  0.018999\n",
       "4    Native    78  0.015935\n",
       "5     Other    48  0.009806"
      ]
     },
     "execution_count": 26,
     "metadata": {},
     "output_type": "execute_result"
    }
   ],
   "source": [
    "race_df = df.groupby('race').agg({'id':'count'}).sort_values('id',ascending = False).reset_index()\n",
    "race_df['ratio'] = race_df['id'] / race_df['id'].sum()\n",
    "# race_df.rename(columns = {'id':'ratio'}, inplace = True)\n",
    "race_df"
   ]
  },
  {
   "cell_type": "markdown",
   "metadata": {},
   "source": [
    "Trực quan kết quả vừa nhận được"
   ]
  },
  {
   "cell_type": "code",
   "execution_count": 27,
   "metadata": {},
   "outputs": [
    {
     "data": {
      "image/png": "[encoded data removed]",
      "text/plain": [
       "<Figure size 1152x648 with 1 Axes>"
      ]
     },
     "metadata": {
      "needs_background": "light"
     },
     "output_type": "display_data"
    }
   ],
   "source": [
    "race_df = df.groupby('race').agg({'id':'count'}).sort_values('id',ascending = False).reset_index()\n",
    "\n",
    "plt.figure(figsize = (16,9))\n",
    "sns.barplot(x = 'race', y = 'id', data = race_df)\n",
    "plt.show()"
   ]
  },
  {
   "cell_type": "markdown",
   "metadata": {},
   "source": [
    "Nhận xét:\n",
    "- Trong các sự việc liên quan đến nổ súng, hầu hết chủ đề được quan tâm nhất là Phân biệt chủng tộc - sắc tộc. Tuy nhiên, dựa vào biểu đồ phía trên, ta có thể thấy `White` chiếm tỉ lệ lớn nhất trong các vụ việc đả xảy ra (50%)\n",
    "- `Black` chiếm khoảng hơn 25%  trong các vụ việc xảy ra"
   ]
  },
  {
   "cell_type": "markdown",
   "metadata": {},
   "source": [
    "### Chúng ta cùng tìm hiểu về diễn biến của số người tử vong theo thời gian của từng sắc tộc"
   ]
  },
  {
   "cell_type": "markdown",
   "metadata": {},
   "source": [
    "Xử lí dataframe cho từng race, chuyển date thành 2 cột Year và Month"
   ]
  },
  {
   "cell_type": "code",
   "execution_count": 28,
   "metadata": {},
   "outputs": [
    {
     "data": {
      "text/html": [
       "<div>\n",
       "<style scoped>\n",
       "    .dataframe tbody tr th:only-of-type {\n",
       "        vertical-align: middle;\n",
       "    }\n",
       "\n",
       "    .dataframe tbody tr th {\n",
       "        vertical-align: top;\n",
       "    }\n",
       "\n",
       "    .dataframe thead th {\n",
       "        text-align: right;\n",
       "    }\n",
       "</style>\n",
       "<table border=\"1\" class=\"dataframe\">\n",
       "  <thead>\n",
       "    <tr style=\"text-align: right;\">\n",
       "      <th></th>\n",
       "      <th>race</th>\n",
       "      <th>id</th>\n",
       "      <th>date</th>\n",
       "    </tr>\n",
       "  </thead>\n",
       "  <tbody>\n",
       "    <tr>\n",
       "      <th>0</th>\n",
       "      <td>White</td>\n",
       "      <td>57</td>\n",
       "      <td>2015-7</td>\n",
       "    </tr>\n",
       "    <tr>\n",
       "      <th>1</th>\n",
       "      <td>White</td>\n",
       "      <td>53</td>\n",
       "      <td>2018-3</td>\n",
       "    </tr>\n",
       "    <tr>\n",
       "      <th>2</th>\n",
       "      <td>White</td>\n",
       "      <td>50</td>\n",
       "      <td>2016-1</td>\n",
       "    </tr>\n",
       "    <tr>\n",
       "      <th>3</th>\n",
       "      <td>White</td>\n",
       "      <td>49</td>\n",
       "      <td>2016-3</td>\n",
       "    </tr>\n",
       "    <tr>\n",
       "      <th>4</th>\n",
       "      <td>White</td>\n",
       "      <td>49</td>\n",
       "      <td>2018-1</td>\n",
       "    </tr>\n",
       "    <tr>\n",
       "      <th>...</th>\n",
       "      <td>...</td>\n",
       "      <td>...</td>\n",
       "      <td>...</td>\n",
       "    </tr>\n",
       "    <tr>\n",
       "      <th>319</th>\n",
       "      <td>Asian</td>\n",
       "      <td>1</td>\n",
       "      <td>2017-3</td>\n",
       "    </tr>\n",
       "    <tr>\n",
       "      <th>320</th>\n",
       "      <td>Native</td>\n",
       "      <td>1</td>\n",
       "      <td>2017-3</td>\n",
       "    </tr>\n",
       "    <tr>\n",
       "      <th>321</th>\n",
       "      <td>Native</td>\n",
       "      <td>1</td>\n",
       "      <td>2017-4</td>\n",
       "    </tr>\n",
       "    <tr>\n",
       "      <th>322</th>\n",
       "      <td>Native</td>\n",
       "      <td>1</td>\n",
       "      <td>2019-5</td>\n",
       "    </tr>\n",
       "    <tr>\n",
       "      <th>323</th>\n",
       "      <td>Asian</td>\n",
       "      <td>1</td>\n",
       "      <td>2016-11</td>\n",
       "    </tr>\n",
       "  </tbody>\n",
       "</table>\n",
       "<p>324 rows × 3 columns</p>\n",
       "</div>"
      ],
      "text/plain": [
       "       race  id     date\n",
       "0     White  57   2015-7\n",
       "1     White  53   2018-3\n",
       "2     White  50   2016-1\n",
       "3     White  49   2016-3\n",
       "4     White  49   2018-1\n",
       "..      ...  ..      ...\n",
       "319   Asian   1   2017-3\n",
       "320  Native   1   2017-3\n",
       "321  Native   1   2017-4\n",
       "322  Native   1   2019-5\n",
       "323   Asian   1  2016-11\n",
       "\n",
       "[324 rows x 3 columns]"
      ]
     },
     "execution_count": 28,
     "metadata": {},
     "output_type": "execute_result"
    }
   ],
   "source": [
    "race_by_time_df = df[['id','race']].copy()\n",
    "race_by_time_df['month'] = df['date'].dt.month\n",
    "race_by_time_df['year'] = df['date'].dt.year\n",
    "\n",
    "race_event = race_by_time_df.groupby(['year','month','race']).agg({'id':'nunique'}).sort_values('id',ascending = False).reset_index()\n",
    "race_event['date'] = race_event['year'].astype(str)+'-'+race_event['month'].astype(str)\n",
    "race_event.drop(columns = ['year','month'],inplace = True)\n",
    "race_event"
   ]
  },
  {
   "cell_type": "markdown",
   "metadata": {},
   "source": [
    "## 7. Sự liên quan của Vị trí địa lý (City - State)\n",
    "\n",
    "Những vụ việc này sẽ xảy ra ở khu vực nào nhất?"
   ]
  },
  {
   "cell_type": "code",
   "execution_count": 31,
   "metadata": {},
   "outputs": [
    {
     "data": {
      "text/html": [
       "<div>\n",
       "<style scoped>\n",
       "    .dataframe tbody tr th:only-of-type {\n",
       "        vertical-align: middle;\n",
       "    }\n",
       "\n",
       "    .dataframe tbody tr th {\n",
       "        vertical-align: top;\n",
       "    }\n",
       "\n",
       "    .dataframe thead th {\n",
       "        text-align: right;\n",
       "    }\n",
       "</style>\n",
       "<table border=\"1\" class=\"dataframe\">\n",
       "  <thead>\n",
       "    <tr style=\"text-align: right;\">\n",
       "      <th></th>\n",
       "      <th>city</th>\n",
       "      <th>id</th>\n",
       "    </tr>\n",
       "  </thead>\n",
       "  <tbody>\n",
       "    <tr>\n",
       "      <th>0</th>\n",
       "      <td>Los Angeles</td>\n",
       "      <td>78</td>\n",
       "    </tr>\n",
       "    <tr>\n",
       "      <th>1</th>\n",
       "      <td>Phoenix</td>\n",
       "      <td>66</td>\n",
       "    </tr>\n",
       "    <tr>\n",
       "      <th>2</th>\n",
       "      <td>Houston</td>\n",
       "      <td>51</td>\n",
       "    </tr>\n",
       "    <tr>\n",
       "      <th>3</th>\n",
       "      <td>Las Vegas</td>\n",
       "      <td>41</td>\n",
       "    </tr>\n",
       "    <tr>\n",
       "      <th>4</th>\n",
       "      <td>San Antonio</td>\n",
       "      <td>40</td>\n",
       "    </tr>\n",
       "    <tr>\n",
       "      <th>5</th>\n",
       "      <td>Chicago</td>\n",
       "      <td>38</td>\n",
       "    </tr>\n",
       "    <tr>\n",
       "      <th>6</th>\n",
       "      <td>Columbus</td>\n",
       "      <td>36</td>\n",
       "    </tr>\n",
       "    <tr>\n",
       "      <th>7</th>\n",
       "      <td>Albuquerque</td>\n",
       "      <td>32</td>\n",
       "    </tr>\n",
       "    <tr>\n",
       "      <th>8</th>\n",
       "      <td>Jacksonville</td>\n",
       "      <td>31</td>\n",
       "    </tr>\n",
       "    <tr>\n",
       "      <th>9</th>\n",
       "      <td>St. Louis</td>\n",
       "      <td>30</td>\n",
       "    </tr>\n",
       "  </tbody>\n",
       "</table>\n",
       "</div>"
      ],
      "text/plain": [
       "           city  id\n",
       "0   Los Angeles  78\n",
       "1       Phoenix  66\n",
       "2       Houston  51\n",
       "3     Las Vegas  41\n",
       "4   San Antonio  40\n",
       "5       Chicago  38\n",
       "6      Columbus  36\n",
       "7   Albuquerque  32\n",
       "8  Jacksonville  31\n",
       "9     St. Louis  30"
      ]
     },
     "execution_count": 31,
     "metadata": {},
     "output_type": "execute_result"
    }
   ],
   "source": [
    "city_df = df[['id','city']].copy()\n",
    "# state_df['year'] = df['date'].dt.year\n",
    "\n",
    "city_df = city_df.groupby(['city']).agg('count')[['id']].sort_values('id',ascending = False).reset_index()\n",
    "city_df.head(10)"
   ]
  },
  {
   "cell_type": "markdown",
   "metadata": {},
   "source": [
    "Nhận xét:\n",
    "- Los Angeles là thành phố có số ca nhiều nhất\n",
    "- Các thành phố trong top10 thì có nhiều thành phố nổi tiếng của Mỹ: Houston, LA, Las Vegas, Chicago"
   ]
  },
  {
   "cell_type": "code",
   "execution_count": 35,
   "metadata": {},
   "outputs": [
    {
     "data": {
      "text/html": [
       "<div>\n",
       "<style scoped>\n",
       "    .dataframe tbody tr th:only-of-type {\n",
       "        vertical-align: middle;\n",
       "    }\n",
       "\n",
       "    .dataframe tbody tr th {\n",
       "        vertical-align: top;\n",
       "    }\n",
       "\n",
       "    .dataframe thead th {\n",
       "        text-align: right;\n",
       "    }\n",
       "</style>\n",
       "<table border=\"1\" class=\"dataframe\">\n",
       "  <thead>\n",
       "    <tr style=\"text-align: right;\">\n",
       "      <th></th>\n",
       "      <th>state</th>\n",
       "      <th>id</th>\n",
       "    </tr>\n",
       "  </thead>\n",
       "  <tbody>\n",
       "    <tr>\n",
       "      <th>0</th>\n",
       "      <td>CA</td>\n",
       "      <td>701</td>\n",
       "    </tr>\n",
       "    <tr>\n",
       "      <th>1</th>\n",
       "      <td>TX</td>\n",
       "      <td>426</td>\n",
       "    </tr>\n",
       "    <tr>\n",
       "      <th>2</th>\n",
       "      <td>FL</td>\n",
       "      <td>324</td>\n",
       "    </tr>\n",
       "    <tr>\n",
       "      <th>3</th>\n",
       "      <td>AZ</td>\n",
       "      <td>222</td>\n",
       "    </tr>\n",
       "    <tr>\n",
       "      <th>4</th>\n",
       "      <td>CO</td>\n",
       "      <td>168</td>\n",
       "    </tr>\n",
       "  </tbody>\n",
       "</table>\n",
       "</div>"
      ],
      "text/plain": [
       "  state   id\n",
       "0    CA  701\n",
       "1    TX  426\n",
       "2    FL  324\n",
       "3    AZ  222\n",
       "4    CO  168"
      ]
     },
     "execution_count": 35,
     "metadata": {},
     "output_type": "execute_result"
    }
   ],
   "source": [
    "state_df = df[['id','state']]\n",
    "state_grouped_df = state_df.groupby(['state']).agg({'id':'nunique'}).sort_values('id',ascending = False).reset_index()\n",
    "state_grouped_df.head(5)"
   ]
  },
  {
   "cell_type": "markdown",
   "metadata": {},
   "source": [
    "Trực quan hóa các giá trị của State"
   ]
  },
  {
   "cell_type": "code",
   "execution_count": 44,
   "metadata": {},
   "outputs": [
    {
     "data": {
      "text/plain": [
       "<matplotlib.axes._subplots.AxesSubplot at 0x120306fcf88>"
      ]
     },
     "execution_count": 44,
     "metadata": {},
     "output_type": "execute_result"
    },
    {
     "data": {
      "image/png": "[encoded data removed]",
      "text/plain": [
       "<Figure size 1152x648 with 1 Axes>"
      ]
     },
     "metadata": {
      "needs_background": "light"
     },
     "output_type": "display_data"
    }
   ],
   "source": [
    "plt.figure(figsize = (16,9))\n",
    "sns.barplot(x = 'state', y = 'id', data = state_grouped_df.head(10))"
   ]
  },
  {
   "cell_type": "markdown",
   "metadata": {},
   "source": [
    "## 8. Nạn nhân có chạy trốn không"
   ]
  },
  {
   "cell_type": "markdown",
   "metadata": {},
   "source": [
    "Lọc các cột id và flee từ dataframe, tính tỉ lệ"
   ]
  },
  {
   "cell_type": "code",
   "execution_count": 32,
   "metadata": {},
   "outputs": [
    {
     "data": {
      "text/html": [
       "<div>\n",
       "<style scoped>\n",
       "    .dataframe tbody tr th:only-of-type {\n",
       "        vertical-align: middle;\n",
       "    }\n",
       "\n",
       "    .dataframe tbody tr th {\n",
       "        vertical-align: top;\n",
       "    }\n",
       "\n",
       "    .dataframe thead th {\n",
       "        text-align: right;\n",
       "    }\n",
       "</style>\n",
       "<table border=\"1\" class=\"dataframe\">\n",
       "  <thead>\n",
       "    <tr style=\"text-align: right;\">\n",
       "      <th></th>\n",
       "      <th>flee</th>\n",
       "      <th>id</th>\n",
       "    </tr>\n",
       "  </thead>\n",
       "  <tbody>\n",
       "    <tr>\n",
       "      <th>0</th>\n",
       "      <td>Not fleeing</td>\n",
       "      <td>0.627783</td>\n",
       "    </tr>\n",
       "    <tr>\n",
       "      <th>1</th>\n",
       "      <td>Car</td>\n",
       "      <td>0.167518</td>\n",
       "    </tr>\n",
       "    <tr>\n",
       "      <th>2</th>\n",
       "      <td>Foot</td>\n",
       "      <td>0.131154</td>\n",
       "    </tr>\n",
       "    <tr>\n",
       "      <th>3</th>\n",
       "      <td>Other</td>\n",
       "      <td>0.073544</td>\n",
       "    </tr>\n",
       "  </tbody>\n",
       "</table>\n",
       "</div>"
      ],
      "text/plain": [
       "          flee        id\n",
       "0  Not fleeing  0.627783\n",
       "1          Car  0.167518\n",
       "2         Foot  0.131154\n",
       "3        Other  0.073544"
      ]
     },
     "execution_count": 32,
     "metadata": {},
     "output_type": "execute_result"
    }
   ],
   "source": [
    "flee_df = df[['id','flee']].copy()\n",
    "flee_df = flee_df.groupby(['flee']).agg({'id':'nunique'}).sort_values('id',ascending = False).reset_index()\n",
    "flee_df['id'] = flee_df['id'] / flee_df['id'].sum()\n",
    "flee_df"
   ]
  },
  {
   "cell_type": "markdown",
   "metadata": {},
   "source": [
    "Các giá trị rời rạc của flee"
   ]
  },
  {
   "cell_type": "code",
   "execution_count": 33,
   "metadata": {},
   "outputs": [
    {
     "data": {
      "text/plain": [
       "array(['Not fleeing', 'Car', 'Foot', 'Other'], dtype=object)"
      ]
     },
     "execution_count": 33,
     "metadata": {},
     "output_type": "execute_result"
    }
   ],
   "source": [
    "flee_df['flee'].unique()"
   ]
  },
  {
   "cell_type": "markdown",
   "metadata": {},
   "source": [
    "Trực quan bằng biểu đồ tổng hợp số lượng người chạy trốn bằng các phương tiện kể trên"
   ]
  },
  {
   "cell_type": "code",
   "execution_count": 34,
   "metadata": {},
   "outputs": [
    {
     "data": {
      "text/plain": [
       "<matplotlib.axes._subplots.AxesSubplot at 0x120312ca508>"
      ]
     },
     "execution_count": 34,
     "metadata": {},
     "output_type": "execute_result"
    },
    {
     "data": {
      "image/png": "[encoded data removed]",
      "text/plain": [
       "<Figure size 1152x648 with 1 Axes>"
      ]
     },
     "metadata": {
      "needs_background": "light"
     },
     "output_type": "display_data"
    }
   ],
   "source": [
    "plt.figure(figsize = (16,9))\n",
    "sns.barplot(x = 'flee', y = 'id', data = flee_df)"
   ]
  },
  {
   "cell_type": "markdown",
   "metadata": {},
   "source": [
    "Nhận xét:\n",
    "- Hầu hết những người này không chống cự\n",
    "- Số khác chống cự bằng cách chạy trốn"
   ]
  },
  {
   "cell_type": "markdown",
   "metadata": {},
   "source": [
    "## 9. Nguyên nhân tử vong của nạn nhân?\n",
    "\n",
    "Xu hướng của nguyên nhân cái chết của những người trong danh sách như thế nào?"
   ]
  },
  {
   "cell_type": "markdown",
   "metadata": {},
   "source": [
    "Kiểm tra các giá trị rời rạc của manner_of_death"
   ]
  },
  {
   "cell_type": "code",
   "execution_count": 32,
   "metadata": {},
   "outputs": [
    {
     "data": {
      "text/plain": [
       "array(['shot', 'shot and Tasered'], dtype=object)"
      ]
     },
     "execution_count": 32,
     "metadata": {},
     "output_type": "execute_result"
    }
   ],
   "source": [
    "df['manner_of_death'].unique()"
   ]
  },
  {
   "cell_type": "markdown",
   "metadata": {},
   "source": [
    "Tính toán tỉ lệ của các giá trị trong manner_of_death"
   ]
  },
  {
   "cell_type": "code",
   "execution_count": 33,
   "metadata": {},
   "outputs": [
    {
     "data": {
      "text/html": [
       "<div>\n",
       "<style scoped>\n",
       "    .dataframe tbody tr th:only-of-type {\n",
       "        vertical-align: middle;\n",
       "    }\n",
       "\n",
       "    .dataframe tbody tr th {\n",
       "        vertical-align: top;\n",
       "    }\n",
       "\n",
       "    .dataframe thead th {\n",
       "        text-align: right;\n",
       "    }\n",
       "</style>\n",
       "<table border=\"1\" class=\"dataframe\">\n",
       "  <thead>\n",
       "    <tr style=\"text-align: right;\">\n",
       "      <th></th>\n",
       "      <th>manner_of_death</th>\n",
       "      <th>id</th>\n",
       "    </tr>\n",
       "  </thead>\n",
       "  <tbody>\n",
       "    <tr>\n",
       "      <th>0</th>\n",
       "      <td>shot</td>\n",
       "      <td>0.949336</td>\n",
       "    </tr>\n",
       "    <tr>\n",
       "      <th>1</th>\n",
       "      <td>shot and Tasered</td>\n",
       "      <td>0.050664</td>\n",
       "    </tr>\n",
       "  </tbody>\n",
       "</table>\n",
       "</div>"
      ],
      "text/plain": [
       "    manner_of_death        id\n",
       "0              shot  0.949336\n",
       "1  shot and Tasered  0.050664"
      ]
     },
     "execution_count": 33,
     "metadata": {},
     "output_type": "execute_result"
    }
   ],
   "source": [
    "deaths_df = df[['manner_of_death','id']]\n",
    "deaths_df = deaths_df.groupby(['manner_of_death']).agg({'id':'nunique'}).reset_index()\n",
    "deaths_df['id'] = deaths_df['id'] / deaths_df['id'].sum()\n",
    "deaths_df"
   ]
  },
  {
   "cell_type": "markdown",
   "metadata": {},
   "source": [
    "Nhận xét:\n",
    "- Đa số các nạn nhân đều cùng một nguyên nhân, và số người được kiểm tra (Tasered) không nhiều (rất ít)"
   ]
  },
  {
   "cell_type": "markdown",
   "metadata": {},
   "source": [
    "## 10. Loại vũ khí sử dụng trong sự việc liên quan gì đến độ nguy hiểm?\n",
    "\n"
   ]
  },
  {
   "cell_type": "markdown",
   "metadata": {},
   "source": [
    "Kiểm tra các giá trị rời rạc của `threat_level` và `armed`"
   ]
  },
  {
   "cell_type": "code",
   "execution_count": 42,
   "metadata": {},
   "outputs": [
    {
     "data": {
      "text/plain": [
       "(array(['attack', 'other', 'undetermined'], dtype=object),\n",
       " array(['gun', 'unarmed', 'toy weapon', 'nail gun', 'knife', 'unknown',\n",
       "        'shovel', 'hammer', 'hatchet', 'sword', 'machete', 'box cutter',\n",
       "        'metal object', 'screwdriver', 'lawn mower blade', 'flagpole',\n",
       "        'guns and explosives', 'cordless drill', 'metal pole', 'Taser',\n",
       "        'metal pipe', 'metal hand tool', 'blunt object', 'metal stick',\n",
       "        'sharp object', 'meat cleaver', 'carjack', 'chain',\n",
       "        \"contractor's level\", 'stapler', 'crossbow', 'bean-bag gun',\n",
       "        'baseball bat and fireplace poker', 'straight edge razor',\n",
       "        'gun and knife', 'ax', 'brick', 'baseball bat', 'hand torch',\n",
       "        'chain saw', 'garden tool', 'scissors', 'pole', 'pick-axe',\n",
       "        'flashlight', 'vehicle', 'spear', 'chair', 'pitchfork',\n",
       "        'hatchet and gun', 'rock', 'piece of wood', 'bayonet', 'pipe',\n",
       "        'glass shard', 'motorcycle', 'pepper spray', 'metal rake', 'baton',\n",
       "        'crowbar', 'oar', 'machete and gun', 'air conditioner',\n",
       "        'pole and knife', 'beer bottle', 'baseball bat and bottle',\n",
       "        'fireworks', 'pen', 'chainsaw', 'gun and sword', 'gun and car',\n",
       "        'pellet gun', 'BB gun', 'incendiary device', 'samurai sword',\n",
       "        'bow and arrow', 'gun and vehicle', 'vehicle and gun', 'wrench',\n",
       "        'walking stick', 'barstool', 'grenade', 'BB gun and vehicle',\n",
       "        'wasp spray', 'air pistol', 'baseball bat and knife',\n",
       "        'vehicle and machete', 'ice pick', 'car, knife and mace'],\n",
       "       dtype=object))"
      ]
     },
     "execution_count": 42,
     "metadata": {},
     "output_type": "execute_result"
    }
   ],
   "source": [
    "df['threat_level'].unique(),df['armed'].unique()"
   ]
  },
  {
   "cell_type": "markdown",
   "metadata": {},
   "source": [
    "Số lượng các giá trị rời rạc của `threat_level` và `armed`"
   ]
  },
  {
   "cell_type": "code",
   "execution_count": 39,
   "metadata": {},
   "outputs": [
    {
     "data": {
      "text/plain": [
       "(3, 89)"
      ]
     },
     "execution_count": 39,
     "metadata": {},
     "output_type": "execute_result"
    }
   ],
   "source": [
    "df['threat_level'].nunique(),df['armed'].nunique()"
   ]
  },
  {
   "cell_type": "markdown",
   "metadata": {},
   "source": [
    "Ta groupby để kiểm tra số lượng vũ khí được sử dụng theo từng level"
   ]
  },
  {
   "cell_type": "code",
   "execution_count": 40,
   "metadata": {},
   "outputs": [
    {
     "data": {
      "text/html": [
       "<div>\n",
       "<style scoped>\n",
       "    .dataframe tbody tr th:only-of-type {\n",
       "        vertical-align: middle;\n",
       "    }\n",
       "\n",
       "    .dataframe tbody tr th {\n",
       "        vertical-align: top;\n",
       "    }\n",
       "\n",
       "    .dataframe thead th {\n",
       "        text-align: right;\n",
       "    }\n",
       "</style>\n",
       "<table border=\"1\" class=\"dataframe\">\n",
       "  <thead>\n",
       "    <tr style=\"text-align: right;\">\n",
       "      <th></th>\n",
       "      <th>armed</th>\n",
       "    </tr>\n",
       "    <tr>\n",
       "      <th>threat_level</th>\n",
       "      <th></th>\n",
       "    </tr>\n",
       "  </thead>\n",
       "  <tbody>\n",
       "    <tr>\n",
       "      <th>attack</th>\n",
       "      <td>62</td>\n",
       "    </tr>\n",
       "    <tr>\n",
       "      <th>other</th>\n",
       "      <td>63</td>\n",
       "    </tr>\n",
       "    <tr>\n",
       "      <th>undetermined</th>\n",
       "      <td>12</td>\n",
       "    </tr>\n",
       "  </tbody>\n",
       "</table>\n",
       "</div>"
      ],
      "text/plain": [
       "              armed\n",
       "threat_level       \n",
       "attack           62\n",
       "other            63\n",
       "undetermined     12"
      ]
     },
     "execution_count": 40,
     "metadata": {},
     "output_type": "execute_result"
    }
   ],
   "source": [
    "armed_df = df.groupby('threat_level').agg({'armed':'nunique'})\n",
    "armed_df"
   ]
  },
  {
   "cell_type": "markdown",
   "metadata": {},
   "source": [
    "Liệt kê các loại vũ khí được dùng khi `threat_level` là undetermined"
   ]
  },
  {
   "cell_type": "code",
   "execution_count": 43,
   "metadata": {},
   "outputs": [
    {
     "data": {
      "text/plain": [
       "[array(['unknown', 'gun', 'unarmed', 'carjack', 'baseball bat', 'pole',\n",
       "        'shovel', 'knife', 'bayonet', 'air conditioner', 'toy weapon',\n",
       "        'sword'], dtype=object)]"
      ]
     },
     "execution_count": 43,
     "metadata": {},
     "output_type": "execute_result"
    }
   ],
   "source": [
    "undetermined_armed_list = df.groupby('threat_level').agg({'armed':'unique'}).loc['undetermined'].to_list()\n",
    "undetermined_armed_list"
   ]
  },
  {
   "cell_type": "markdown",
   "metadata": {},
   "source": [
    "## 11. Loại vũ khí nào được sử dụng nhiều nhất"
   ]
  },
  {
   "cell_type": "code",
   "execution_count": 37,
   "metadata": {},
   "outputs": [
    {
     "data": {
      "text/html": [
       "<div>\n",
       "<style scoped>\n",
       "    .dataframe tbody tr th:only-of-type {\n",
       "        vertical-align: middle;\n",
       "    }\n",
       "\n",
       "    .dataframe tbody tr th {\n",
       "        vertical-align: top;\n",
       "    }\n",
       "\n",
       "    .dataframe thead th {\n",
       "        text-align: right;\n",
       "    }\n",
       "</style>\n",
       "<table border=\"1\" class=\"dataframe\">\n",
       "  <thead>\n",
       "    <tr style=\"text-align: right;\">\n",
       "      <th></th>\n",
       "      <th>armed</th>\n",
       "      <th>id</th>\n",
       "    </tr>\n",
       "  </thead>\n",
       "  <tbody>\n",
       "    <tr>\n",
       "      <th>0</th>\n",
       "      <td>gun</td>\n",
       "      <td>2755</td>\n",
       "    </tr>\n",
       "    <tr>\n",
       "      <th>1</th>\n",
       "      <td>knife</td>\n",
       "      <td>708</td>\n",
       "    </tr>\n",
       "    <tr>\n",
       "      <th>2</th>\n",
       "      <td>unknown</td>\n",
       "      <td>418</td>\n",
       "    </tr>\n",
       "    <tr>\n",
       "      <th>3</th>\n",
       "      <td>unarmed</td>\n",
       "      <td>348</td>\n",
       "    </tr>\n",
       "    <tr>\n",
       "      <th>4</th>\n",
       "      <td>toy weapon</td>\n",
       "      <td>171</td>\n",
       "    </tr>\n",
       "  </tbody>\n",
       "</table>\n",
       "</div>"
      ],
      "text/plain": [
       "        armed    id\n",
       "0         gun  2755\n",
       "1       knife   708\n",
       "2     unknown   418\n",
       "3     unarmed   348\n",
       "4  toy weapon   171"
      ]
     },
     "execution_count": 37,
     "metadata": {},
     "output_type": "execute_result"
    }
   ],
   "source": [
    "df.groupby('armed').agg({'id':'nunique'}).sort_values('id',ascending = False).reset_index().head(5)"
   ]
  },
  {
   "cell_type": "markdown",
   "metadata": {},
   "source": [
    "Nhận xét:\n",
    "- 3 trong 5 loại vũ khí được sử dụng nhiều nhất là các loại vũ khí chún ta thường thấy: gun, knife, toy weapon"
   ]
  },
  {
   "cell_type": "markdown",
   "metadata": {},
   "source": [
    "## 12. Nạn nhân có dấu hiệu tâm thần không?"
   ]
  },
  {
   "cell_type": "code",
   "execution_count": 38,
   "metadata": {},
   "outputs": [],
   "source": [
    "metal_df = df[['id','signs_of_mental_illness']]"
   ]
  },
  {
   "cell_type": "code",
   "execution_count": 39,
   "metadata": {},
   "outputs": [
    {
     "data": {
      "text/plain": [
       "<matplotlib.axes._subplots.AxesSubplot at 0x26e2c206e48>"
      ]
     },
     "execution_count": 39,
     "metadata": {},
     "output_type": "execute_result"
    },
    {
     "data": {
      "image/png": "[encoded data removed]",
      "text/plain": [
       "<Figure size 1152x648 with 1 Axes>"
      ]
     },
     "metadata": {
      "needs_background": "light"
     },
     "output_type": "display_data"
    }
   ],
   "source": [
    "metal_group_df = metal_df.groupby(['signs_of_mental_illness']).agg({'id':'nunique'}).reset_index()\n",
    "metal_group_df['ratio'] = metal_group_df['id'] / metal_group_df['id'].sum()\n",
    "plt.figure(figsize = (16,9))\n",
    "sns.barplot(x = 'signs_of_mental_illness', y = 'ratio', data = metal_group_df )"
   ]
  },
  {
   "cell_type": "markdown",
   "metadata": {},
   "source": [
    "Nhận xét:\n",
    "- Tỉ lệ người có dấu hiệu tâm thần khá cao (khoảng 20%) -> điều này khá nguy hiểm"
   ]
  },
  {
   "cell_type": "markdown",
   "metadata": {},
   "source": [
    "## 13. Phân bố độ tuổi theo từng race"
   ]
  },
  {
   "cell_type": "code",
   "execution_count": 40,
   "metadata": {},
   "outputs": [
    {
     "data": {
      "text/plain": [
       "<matplotlib.axes._subplots.AxesSubplot at 0x26e2b934bc8>"
      ]
     },
     "execution_count": 40,
     "metadata": {},
     "output_type": "execute_result"
    },
    {
     "data": {
      "image/png": "[encoded data removed]",
      "text/plain": [
       "<Figure size 1152x648 with 1 Axes>"
      ]
     },
     "metadata": {
      "needs_background": "light"
     },
     "output_type": "display_data"
    }
   ],
   "source": [
    "plt.figure(figsize = (16,9))\n",
    "sns.boxplot(x = 'race', y = 'age', data = df)"
   ]
  },
  {
   "cell_type": "markdown",
   "metadata": {},
   "source": [
    "Nhận xét:\n",
    "- Hầu hết nạn nhân ở các race đều có độ tuổi khá gần nhau. \n",
    "- Trong các ouliers, White, Hispanic, Black có nhiều outliers nhất, các outliers này để ở độ tuổi già (trên 60)"
   ]
  },
  {
   "cell_type": "markdown",
   "metadata": {},
   "source": [
    "Các State có số lượng event cao nhất"
   ]
  },
  {
   "cell_type": "markdown",
   "metadata": {},
   "source": [
    "Biểu diễn bằng barplot"
   ]
  },
  {
   "cell_type": "markdown",
   "metadata": {},
   "source": [
    "# Nhìn lại quá trình làm đồ án"
   ]
  },
  {
   "cell_type": "markdown",
   "metadata": {},
   "source": [
    "- Khó khăn: Tìm dữ liệu, chủ đề\n",
    "- Về việc tiền xử lí thì em/mình cảm thấy khá thuận lợi, vì may mắn tìm được tập dữ liệu không cần phải tiền xử lí quá nhiều\n",
    "- Về đồ án, em/mình học được về việc tổ chức code, công việc của 1 Data scientist."
   ]
  },
  {
   "cell_type": "markdown",
   "metadata": {},
   "source": [
    "### Tham khảo:\n",
    "- https://seaborn.pydata.org/\n",
    "- https://www.kite.com/\n",
    "- https://www.kaggle.com/raenish/don-t-shoot"
   ]
  }
 ],
 "metadata": {
  "kernelspec": {
   "display_name": "Python 3",
   "language": "python",
   "name": "python3"
  },
  "language_info": {
   "codemirror_mode": {
    "name": "ipython",
    "version": 3
   },
   "file_extension": ".py",
   "mimetype": "text/x-python",
   "name": "python",
   "nbconvert_exporter": "python",
   "pygments_lexer": "ipython3",
   "version": "3.7.6"
  }
 },
 "nbformat": 4,
 "nbformat_minor": 4
}
